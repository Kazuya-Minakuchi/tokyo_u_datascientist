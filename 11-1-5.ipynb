{
 "cells": [
  {
   "cell_type": "code",
   "execution_count": 1,
   "metadata": {},
   "outputs": [
    {
     "data": {
      "text/plain": [
       "'%.3f'"
      ]
     },
     "execution_count": 1,
     "metadata": {},
     "output_type": "execute_result"
    }
   ],
   "source": [
    "import numpy as np\n",
    "import numpy.random as random\n",
    "import scipy as sp\n",
    "from pandas import Series, DataFrame\n",
    "import pandas as pd\n",
    "import time\n",
    "\n",
    "import matplotlib.pyplot as plt\n",
    "import matplotlib as mpl\n",
    "import seaborn as sns\n",
    "%matplotlib inline\n",
    "\n",
    "import sklearn\n",
    "\n",
    "%precision 3"
   ]
  },
  {
   "cell_type": "code",
   "execution_count": 2,
   "metadata": {},
   "outputs": [
    {
     "name": "stderr",
     "output_type": "stream",
     "text": [
      "C:\\Users\\kazuy\\Anaconda3\\lib\\site-packages\\pandas_datareader\\compat\\__init__.py:7: FutureWarning: pandas.util.testing is deprecated. Use the functions in the public API at pandas.testing instead.\n",
      "  from pandas.util.testing import assert_frame_equal\n"
     ]
    }
   ],
   "source": [
    "import pandas_datareader.data as pdr"
   ]
  },
  {
   "cell_type": "code",
   "execution_count": 3,
   "metadata": {},
   "outputs": [],
   "source": [
    "start_date = '2001-01-02'\n",
    "end_date = '2016-12-30'\n",
    "\n",
    "fx_jpusdata = pdr.DataReader(\"DEXJPUS\", \"fred\", start_date, end_date)\n",
    "fx_useudata = pdr.DataReader(\"DEXUSEU\", \"fred\", start_date, end_date)"
   ]
  },
  {
   "cell_type": "markdown",
   "metadata": {},
   "source": [
    "# 問題1"
   ]
  },
  {
   "cell_type": "markdown",
   "metadata": {},
   "source": [
    "欠損値を、直近の前の日付で補完する"
   ]
  },
  {
   "cell_type": "code",
   "execution_count": 4,
   "metadata": {},
   "outputs": [],
   "source": [
    "fx_jpusdata_filled = fx_jpusdata.fillna(method='ffill')\n",
    "fx_useudata_filled = fx_useudata.fillna(method='ffill')"
   ]
  },
  {
   "cell_type": "markdown",
   "metadata": {},
   "source": [
    "# 例題2"
   ]
  },
  {
   "cell_type": "markdown",
   "metadata": {},
   "source": [
    "各統計量の確認と、時系列のグラフ化"
   ]
  },
  {
   "cell_type": "code",
   "execution_count": 5,
   "metadata": {},
   "outputs": [
    {
     "data": {
      "text/html": [
       "<div>\n",
       "<style scoped>\n",
       "    .dataframe tbody tr th:only-of-type {\n",
       "        vertical-align: middle;\n",
       "    }\n",
       "\n",
       "    .dataframe tbody tr th {\n",
       "        vertical-align: top;\n",
       "    }\n",
       "\n",
       "    .dataframe thead th {\n",
       "        text-align: right;\n",
       "    }\n",
       "</style>\n",
       "<table border=\"1\" class=\"dataframe\">\n",
       "  <thead>\n",
       "    <tr style=\"text-align: right;\">\n",
       "      <th></th>\n",
       "      <th>DEXJPUS</th>\n",
       "    </tr>\n",
       "  </thead>\n",
       "  <tbody>\n",
       "    <tr>\n",
       "      <th>count</th>\n",
       "      <td>4174.000000</td>\n",
       "    </tr>\n",
       "    <tr>\n",
       "      <th>mean</th>\n",
       "      <td>105.775220</td>\n",
       "    </tr>\n",
       "    <tr>\n",
       "      <th>std</th>\n",
       "      <td>14.612526</td>\n",
       "    </tr>\n",
       "    <tr>\n",
       "      <th>min</th>\n",
       "      <td>75.720000</td>\n",
       "    </tr>\n",
       "    <tr>\n",
       "      <th>25%</th>\n",
       "      <td>95.365000</td>\n",
       "    </tr>\n",
       "    <tr>\n",
       "      <th>50%</th>\n",
       "      <td>108.105000</td>\n",
       "    </tr>\n",
       "    <tr>\n",
       "      <th>75%</th>\n",
       "      <td>118.195000</td>\n",
       "    </tr>\n",
       "    <tr>\n",
       "      <th>max</th>\n",
       "      <td>134.770000</td>\n",
       "    </tr>\n",
       "  </tbody>\n",
       "</table>\n",
       "</div>"
      ],
      "text/plain": [
       "           DEXJPUS\n",
       "count  4174.000000\n",
       "mean    105.775220\n",
       "std      14.612526\n",
       "min      75.720000\n",
       "25%      95.365000\n",
       "50%     108.105000\n",
       "75%     118.195000\n",
       "max     134.770000"
      ]
     },
     "execution_count": 5,
     "metadata": {},
     "output_type": "execute_result"
    }
   ],
   "source": [
    "fx_jpusdata_filled.describe()"
   ]
  },
  {
   "cell_type": "code",
   "execution_count": 6,
   "metadata": {},
   "outputs": [
    {
     "data": {
      "text/html": [
       "<div>\n",
       "<style scoped>\n",
       "    .dataframe tbody tr th:only-of-type {\n",
       "        vertical-align: middle;\n",
       "    }\n",
       "\n",
       "    .dataframe tbody tr th {\n",
       "        vertical-align: top;\n",
       "    }\n",
       "\n",
       "    .dataframe thead th {\n",
       "        text-align: right;\n",
       "    }\n",
       "</style>\n",
       "<table border=\"1\" class=\"dataframe\">\n",
       "  <thead>\n",
       "    <tr style=\"text-align: right;\">\n",
       "      <th></th>\n",
       "      <th>DEXUSEU</th>\n",
       "    </tr>\n",
       "  </thead>\n",
       "  <tbody>\n",
       "    <tr>\n",
       "      <th>count</th>\n",
       "      <td>4174.000000</td>\n",
       "    </tr>\n",
       "    <tr>\n",
       "      <th>mean</th>\n",
       "      <td>1.239633</td>\n",
       "    </tr>\n",
       "    <tr>\n",
       "      <th>std</th>\n",
       "      <td>0.165265</td>\n",
       "    </tr>\n",
       "    <tr>\n",
       "      <th>min</th>\n",
       "      <td>0.837000</td>\n",
       "    </tr>\n",
       "    <tr>\n",
       "      <th>25%</th>\n",
       "      <td>1.128100</td>\n",
       "    </tr>\n",
       "    <tr>\n",
       "      <th>50%</th>\n",
       "      <td>1.274700</td>\n",
       "    </tr>\n",
       "    <tr>\n",
       "      <th>75%</th>\n",
       "      <td>1.352575</td>\n",
       "    </tr>\n",
       "    <tr>\n",
       "      <th>max</th>\n",
       "      <td>1.601000</td>\n",
       "    </tr>\n",
       "  </tbody>\n",
       "</table>\n",
       "</div>"
      ],
      "text/plain": [
       "           DEXUSEU\n",
       "count  4174.000000\n",
       "mean      1.239633\n",
       "std       0.165265\n",
       "min       0.837000\n",
       "25%       1.128100\n",
       "50%       1.274700\n",
       "75%       1.352575\n",
       "max       1.601000"
      ]
     },
     "execution_count": 6,
     "metadata": {},
     "output_type": "execute_result"
    }
   ],
   "source": [
    "fx_useudata_filled.describe()"
   ]
  },
  {
   "cell_type": "code",
   "execution_count": 7,
   "metadata": {},
   "outputs": [
    {
     "data": {
      "text/plain": [
       "<matplotlib.axes._subplots.AxesSubplot at 0x1a435ac9198>"
      ]
     },
     "execution_count": 7,
     "metadata": {},
     "output_type": "execute_result"
    },
    {
     "data": {
      "image/png": "[encoded data removed]",
      "text/plain": [
       "<Figure size 432x288 with 1 Axes>"
      ]
     },
     "metadata": {
      "needs_background": "light"
     },
     "output_type": "display_data"
    },
    {
     "data": {
      "image/png": "[encoded data removed]",
      "text/plain": [
       "<Figure size 432x288 with 1 Axes>"
      ]
     },
     "metadata": {
      "needs_background": "light"
     },
     "output_type": "display_data"
    }
   ],
   "source": [
    "fx_jpusdata_filled.plot()\n",
    "fx_useudata_filled.plot()"
   ]
  },
  {
   "cell_type": "markdown",
   "metadata": {},
   "source": [
    "# 例題3"
   ]
  },
  {
   "cell_type": "markdown",
   "metadata": {},
   "source": [
    "当日と前日の差分を取り、変化率をヒストグラムで表示する"
   ]
  },
  {
   "cell_type": "code",
   "execution_count": 9,
   "metadata": {},
   "outputs": [],
   "source": [
    "fx_jpusdata_diff_rate = (fx_jpusdata_filled - fx_jpusdata_filled.shift(1)) / fx_jpusdata_filled\n",
    "fx_useudata_diff_rate = (fx_useudata_filled - fx_useudata_filled.shift(1)) / fx_useudata_filled"
   ]
  },
  {
   "cell_type": "code",
   "execution_count": 10,
   "metadata": {},
   "outputs": [
    {
     "data": {
      "text/plain": [
       "array([[<matplotlib.axes._subplots.AxesSubplot object at 0x000001A435C24978>]],\n",
       "      dtype=object)"
      ]
     },
     "execution_count": 10,
     "metadata": {},
     "output_type": "execute_result"
    },
    {
     "data": {
      "image/png": "[encoded data removed]",
      "text/plain": [
       "<Figure size 432x288 with 1 Axes>"
      ]
     },
     "metadata": {
      "needs_background": "light"
     },
     "output_type": "display_data"
    },
    {
     "data": {
      "image/png": "[encoded data removed]",
      "text/plain": [
       "<Figure size 432x288 with 1 Axes>"
      ]
     },
     "metadata": {
      "needs_background": "light"
     },
     "output_type": "display_data"
    }
   ],
   "source": [
    "fx_jpusdata_diff_rate.hist()\n",
    "fx_useudata_diff_rate.hist()"
   ]
  },
  {
   "cell_type": "markdown",
   "metadata": {},
   "source": [
    "# 例題4"
   ]
  },
  {
   "cell_type": "markdown",
   "metadata": {},
   "source": [
    "将来の価格を予測するモデルを構築する"
   ]
  },
  {
   "cell_type": "code",
   "execution_count": 11,
   "metadata": {},
   "outputs": [],
   "source": [
    "#\"DEXJPUS\"\n",
    "#\"DEXUSEU\"\n",
    "used_data = {\n",
    "    'data': \"DEXJPUS\",\n",
    "    'train': ['2016-11-01', '2016-11-30'],\n",
    "    'test': ['2016-12-01', '2016-12-31']\n",
    "}"
   ]
  },
  {
   "cell_type": "code",
   "execution_count": 16,
   "metadata": {},
   "outputs": [],
   "source": [
    "train_data = pdr.DataReader(\n",
    "    used_data['data'],\n",
    "    \"fred\",\n",
    "    used_data['train'][0],\n",
    "    used_data['train'][1]).fillna(method='ffill')\n",
    "test_data = pdr.DataReader(\n",
    "    used_data['data'],\n",
    "    \"fred\",\n",
    "    used_data['test'][0],\n",
    "    used_data['test'][1]).fillna(method='ffill')\n",
    "\n",
    "XY = {\n",
    "    'train': pd.concat(\n",
    "        [train_data,\n",
    "         train_data.shift(1),\n",
    "         train_data.shift(2),\n",
    "         train_data.shift(3)],\n",
    "        axis=1).dropna(),\n",
    "    'test': pd.concat(\n",
    "        [test_data,\n",
    "         test_data.shift(1),\n",
    "         test_data.shift(2),\n",
    "         test_data.shift(3)],\n",
    "        axis=1).dropna()\n",
    "}"
   ]
  },
  {
   "cell_type": "code",
   "execution_count": 17,
   "metadata": {},
   "outputs": [],
   "source": [
    "XY['train'].columns = ['b3', 'b2', 'b1', 'answer']\n",
    "XY['test'].columns = ['b3', 'b2', 'b1', 'answer']\n",
    "\n",
    "X_train = XY['train'].drop('answer', axis=1)\n",
    "y_train = XY['train']['answer']\n",
    "X_test = XY['test'].drop('answer', axis=1)\n",
    "y_test = XY['test']['answer']"
   ]
  },
  {
   "cell_type": "code",
   "execution_count": 18,
   "metadata": {},
   "outputs": [],
   "source": [
    "from sklearn.linear_model import LinearRegression"
   ]
  },
  {
   "cell_type": "code",
   "execution_count": 19,
   "metadata": {},
   "outputs": [
    {
     "data": {
      "text/plain": [
       "LinearRegression(copy_X=True, fit_intercept=True, n_jobs=None, normalize=False)"
      ]
     },
     "execution_count": 19,
     "metadata": {},
     "output_type": "execute_result"
    }
   ],
   "source": [
    "model = LinearRegression()\n",
    "model.fit(X_train, y_train)"
   ]
  },
  {
   "cell_type": "code",
   "execution_count": 20,
   "metadata": {},
   "outputs": [
    {
     "name": "stdout",
     "output_type": "stream",
     "text": [
      "train: 0.9451788510645511\n",
      "test: 0.5715828882014964\n"
     ]
    }
   ],
   "source": [
    "print('train:', model.score(X_train, y_train))\n",
    "print('test:', model.score(X_test, y_test))"
   ]
  },
  {
   "cell_type": "markdown",
   "metadata": {},
   "source": [
    "# 以下、↓解答のコピペ"
   ]
  },
  {
   "cell_type": "markdown",
   "metadata": {},
   "source": [
    "例題3"
   ]
  },
  {
   "cell_type": "code",
   "execution_count": 10,
   "metadata": {},
   "outputs": [
    {
     "data": {
      "text/plain": [
       "array([[<matplotlib.axes._subplots.AxesSubplot object at 0x000001F083D68AC8>]],\n",
       "      dtype=object)"
      ]
     },
     "execution_count": 10,
     "metadata": {},
     "output_type": "execute_result"
    },
    {
     "data": {
      "image/png": "[encoded data removed]",
      "text/plain": [
       "<Figure size 432x288 with 1 Axes>"
      ]
     },
     "metadata": {
      "needs_background": "light"
     },
     "output_type": "display_data"
    },
    {
     "data": {
      "image/png": "[encoded data removed]",
      "text/plain": [
       "<Figure size 432x288 with 1 Axes>"
      ]
     },
     "metadata": {
      "needs_background": "light"
     },
     "output_type": "display_data"
    }
   ],
   "source": [
    "fx_jpusdata_diff_rate.hist(bins=30)\n",
    "fx_useudata_diff_rate.hist(bins=30)"
   ]
  },
  {
   "cell_type": "markdown",
   "metadata": {},
   "source": [
    "例題4"
   ]
  },
  {
   "cell_type": "code",
   "execution_count": 11,
   "metadata": {},
   "outputs": [
    {
     "data": {
      "text/html": [
       "<div>\n",
       "<style scoped>\n",
       "    .dataframe tbody tr th:only-of-type {\n",
       "        vertical-align: middle;\n",
       "    }\n",
       "\n",
       "    .dataframe tbody tr th {\n",
       "        vertical-align: top;\n",
       "    }\n",
       "\n",
       "    .dataframe thead th {\n",
       "        text-align: right;\n",
       "    }\n",
       "</style>\n",
       "<table border=\"1\" class=\"dataframe\">\n",
       "  <thead>\n",
       "    <tr style=\"text-align: right;\">\n",
       "      <th></th>\n",
       "      <th>today</th>\n",
       "      <th>pre_1</th>\n",
       "      <th>pre_2</th>\n",
       "      <th>pre_3</th>\n",
       "    </tr>\n",
       "    <tr>\n",
       "      <th>DATE</th>\n",
       "      <th></th>\n",
       "      <th></th>\n",
       "      <th></th>\n",
       "      <th></th>\n",
       "    </tr>\n",
       "  </thead>\n",
       "  <tbody>\n",
       "    <tr>\n",
       "      <th>2001-01-05</th>\n",
       "      <td>116.19</td>\n",
       "      <td>115.47</td>\n",
       "      <td>114.26</td>\n",
       "      <td>114.73</td>\n",
       "    </tr>\n",
       "    <tr>\n",
       "      <th>2001-01-08</th>\n",
       "      <td>115.97</td>\n",
       "      <td>116.19</td>\n",
       "      <td>115.47</td>\n",
       "      <td>114.26</td>\n",
       "    </tr>\n",
       "    <tr>\n",
       "      <th>2001-01-09</th>\n",
       "      <td>116.64</td>\n",
       "      <td>115.97</td>\n",
       "      <td>116.19</td>\n",
       "      <td>115.47</td>\n",
       "    </tr>\n",
       "    <tr>\n",
       "      <th>2001-01-10</th>\n",
       "      <td>116.26</td>\n",
       "      <td>116.64</td>\n",
       "      <td>115.97</td>\n",
       "      <td>116.19</td>\n",
       "    </tr>\n",
       "    <tr>\n",
       "      <th>2001-01-11</th>\n",
       "      <td>117.56</td>\n",
       "      <td>116.26</td>\n",
       "      <td>116.64</td>\n",
       "      <td>115.97</td>\n",
       "    </tr>\n",
       "  </tbody>\n",
       "</table>\n",
       "</div>"
      ],
      "text/plain": [
       "             today   pre_1   pre_2   pre_3\n",
       "DATE                                      \n",
       "2001-01-05  116.19  115.47  114.26  114.73\n",
       "2001-01-08  115.97  116.19  115.47  114.26\n",
       "2001-01-09  116.64  115.97  116.19  115.47\n",
       "2001-01-10  116.26  116.64  115.97  116.19\n",
       "2001-01-11  117.56  116.26  116.64  115.97"
      ]
     },
     "execution_count": 11,
     "metadata": {},
     "output_type": "execute_result"
    }
   ],
   "source": [
    "merge_data_jpusdata = pd.concat([\n",
    "        fx_jpusdata_filled,\n",
    "        fx_jpusdata_filled.shift(1),\n",
    "        fx_jpusdata_filled.shift(2),\n",
    "        fx_jpusdata_filled.shift(3)\n",
    "    ], axis=1)\n",
    "merge_data_jpusdata.columns = ['today', 'pre_1', 'pre_2', 'pre_3']\n",
    "merge_data_jpusdata_nona = merge_data_jpusdata.dropna()\n",
    "merge_data_jpusdata_nona.head()"
   ]
  },
  {
   "cell_type": "code",
   "execution_count": 12,
   "metadata": {},
   "outputs": [
    {
     "name": "stdout",
     "output_type": "stream",
     "text": [
      "['pre_1']\n",
      "train: LinearRegression 0.9493027692165822\n",
      "test: LinearRegression 0.5687852242036819\n",
      "['pre_1', 'pre_2']\n",
      "train: LinearRegression 0.9494020654841917\n",
      "test: LinearRegression 0.5627029016415758\n",
      "['pre_1', 'pre_2', 'pre_3']\n",
      "train: LinearRegression 0.9509299545649994\n",
      "test: LinearRegression 0.5404389520765218\n"
     ]
    }
   ],
   "source": [
    "from datetime import datetime, date, timedelta\n",
    "from dateutil.relativedelta import relativedelta\n",
    "\n",
    "l_model = LinearRegression()\n",
    "\n",
    "pre_term = '2016-11'\n",
    "pos_term = '2016-12'\n",
    "\n",
    "for pre_list in (['pre_1'], ['pre_1', 'pre_2'], ['pre_1', 'pre_2', 'pre_3']):\n",
    "    print(pre_list)\n",
    "    train = merge_data_jpusdata_nona[pre_term]\n",
    "    X_train = pd.DataFrame(train[pre_list])\n",
    "    y_train = train['today']\n",
    "    test = merge_data_jpusdata_nona[pos_term]\n",
    "    X_test = pd.DataFrame(test[pre_list])\n",
    "    y_test = test['today']\n",
    "    \n",
    "    fit_model = l_model.fit(X_train, y_train)\n",
    "    print('train:', fit_model.__class__.__name__, fit_model.score(X_train, y_train))\n",
    "    print('test:', fit_model.__class__.__name__, fit_model.score(X_test, y_test))    "
   ]
  }
 ],
 "metadata": {
  "kernelspec": {
   "display_name": "Python 3",
   "language": "python",
   "name": "python3"
  },
  "language_info": {
   "codemirror_mode": {
    "name": "ipython",
    "version": 3
   },
   "file_extension": ".py",
   "mimetype": "text/x-python",
   "name": "python",
   "nbconvert_exporter": "python",
   "pygments_lexer": "ipython3",
   "version": "3.7.1"
  }
 },
 "nbformat": 4,
 "nbformat_minor": 4
}
