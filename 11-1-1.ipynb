{
 "cells": [
  {
   "cell_type": "code",
   "execution_count": 1,
   "metadata": {},
   "outputs": [
    {
     "data": {
      "text/plain": [
       "'%.3f'"
      ]
     },
     "execution_count": 1,
     "metadata": {},
     "output_type": "execute_result"
    }
   ],
   "source": [
    "import numpy as np\n",
    "import numpy.random as random\n",
    "import scipy as sp\n",
    "from pandas import Series, DataFrame\n",
    "import pandas as pd\n",
    "import time\n",
    "\n",
    "import matplotlib.pyplot as plt\n",
    "import matplotlib as mpl\n",
    "import seaborn as sns\n",
    "%matplotlib inline\n",
    "\n",
    "import sklearn\n",
    "\n",
    "%precision 3"
   ]
  },
  {
   "cell_type": "code",
   "execution_count": 2,
   "metadata": {},
   "outputs": [
    {
     "data": {
      "image/png": "[encoded data removed]",
      "text/plain": [
       "<Figure size 1440x360 with 10 Axes>"
      ]
     },
     "metadata": {
      "needs_background": "light"
     },
     "output_type": "display_data"
    }
   ],
   "source": [
    "from sklearn.datasets import load_digits\n",
    "\n",
    "digits = load_digits()\n",
    "\n",
    "plt.figure(figsize=(20, 5))\n",
    "for label, img in zip(digits.target[:10], digits.images[:10]):\n",
    "    plt.subplot(1, 10, label+1)\n",
    "    plt.axis('off')\n",
    "    plt.imshow(img, cmap=plt.cm.gray_r, interpolation='nearest')\n",
    "    plt.title('Number:{0}'.format(label))"
   ]
  },
  {
   "cell_type": "code",
   "execution_count": 3,
   "metadata": {},
   "outputs": [],
   "source": [
    "from sklearn.model_selection import train_test_split\n",
    "\n",
    "from sklearn.tree import DecisionTreeClassifier\n",
    "from sklearn.neighbors import KNeighborsClassifier\n",
    "from sklearn.linear_model import LogisticRegression\n",
    "from sklearn.svm import LinearSVC, SVC\n",
    "\n",
    "from sklearn.metrics import confusion_matrix\n",
    "from sklearn.metrics import precision_score, recall_score, f1_score"
   ]
  },
  {
   "cell_type": "code",
   "execution_count": 63,
   "metadata": {
    "scrolled": true
   },
   "outputs": [
    {
     "name": "stdout",
     "output_type": "stream",
     "text": [
      "DecisionTree(gini)\n",
      "Confution matrix:\n",
      "[[34  0  0  0  1  2  0  0  0  0]\n",
      " [ 0 34  2  2  3  0  0  0  0  2]\n",
      " [ 1  3 36  0  1  0  0  0  2  1]\n",
      " [ 0  0  4 38  0  0  0  0  2  1]\n",
      " [ 1  2  0  0 33  0  0  1  0  1]\n",
      " [ 1  0  0  4  0 42  0  0  0  1]\n",
      " [ 0  1  0  1  0  0 49  0  1  0]\n",
      " [ 1  0  1  3  1  1  0 38  1  2]\n",
      " [ 0  1  0  4  0  0  0  0 40  3]\n",
      " [ 1  0  2  2  1  3  0  0  1 37]]\n",
      "LogisticRegression\n",
      "Confution matrix:\n",
      "[[37  0  0  0  0  0  0  0  0  0]\n",
      " [ 0 40  0  0  0  0  0  0  2  1]\n",
      " [ 0  1 40  3  0  0  0  0  0  0]\n",
      " [ 0  0  0 43  0  0  0  0  1  1]\n",
      " [ 0  0  0  0 37  0  0  1  0  0]\n",
      " [ 0  0  0  0  0 46  0  0  0  2]\n",
      " [ 0  1  0  0  0  0 51  0  0  0]\n",
      " [ 0  0  0  1  1  0  0 46  0  0]\n",
      " [ 0  3  1  0  0  0  0  0 43  1]\n",
      " [ 0  0  0  0  0  1  0  0  1 45]]\n",
      "kNN\n",
      "Confution matrix:\n",
      "[[37  0  0  0  0  0  0  0  0  0]\n",
      " [ 0 42  0  0  0  1  0  0  0  0]\n",
      " [ 0  0 43  1  0  0  0  0  0  0]\n",
      " [ 0  0  0 45  0  0  0  0  0  0]\n",
      " [ 0  0  0  0 37  0  0  1  0  0]\n",
      " [ 0  0  0  0  0 47  0  0  0  1]\n",
      " [ 0  0  0  0  0  0 52  0  0  0]\n",
      " [ 0  0  0  0  0  0  0 48  0  0]\n",
      " [ 0  1  0  1  0  0  1  1 44  0]\n",
      " [ 0  0  0  0  0  1  0  0  0 46]]\n"
     ]
    },
    {
     "name": "stderr",
     "output_type": "stream",
     "text": [
      "C:\\Users\\kazuy\\Anaconda3\\lib\\site-packages\\sklearn\\linear_model\\_logistic.py:940: ConvergenceWarning: lbfgs failed to converge (status=1):\n",
      "STOP: TOTAL NO. of ITERATIONS REACHED LIMIT.\n",
      "\n",
      "Increase the number of iterations (max_iter) or scale the data as shown in:\n",
      "    https://scikit-learn.org/stable/modules/preprocessing.html\n",
      "Please also refer to the documentation for alternative solver options:\n",
      "    https://scikit-learn.org/stable/modules/linear_model.html#logistic-regression\n",
      "  extra_warning_msg=_LOGISTIC_SOLVER_CONVERGENCE_MSG)\n",
      "C:\\Users\\kazuy\\Anaconda3\\lib\\site-packages\\sklearn\\svm\\_base.py:947: ConvergenceWarning: Liblinear failed to converge, increase the number of iterations.\n",
      "  \"the number of iterations.\", ConvergenceWarning)\n"
     ]
    },
    {
     "name": "stdout",
     "output_type": "stream",
     "text": [
      "LinearSVC\n",
      "Confution matrix:\n",
      "[[37  0  0  0  0  0  0  0  0  0]\n",
      " [ 0 32  0  0  0  0  2  0  8  1]\n",
      " [ 0  1 37  3  0  0  0  0  3  0]\n",
      " [ 0  0  0 41  0  0  0  0  1  3]\n",
      " [ 0  0  0  1 37  0  0  0  0  0]\n",
      " [ 0  0  0  1  0 43  0  0  1  3]\n",
      " [ 0  0  0  0  0  0 52  0  0  0]\n",
      " [ 0  1  0  1  1  0  0 45  0  0]\n",
      " [ 0  2  0  0  0  0  0  0 44  2]\n",
      " [ 0  0  0  0  0  1  0  0  1 45]]\n",
      "SVC\n",
      "Confution matrix:\n",
      "[[37  0  0  0  0  0  0  0  0  0]\n",
      " [ 0 43  0  0  0  0  0  0  0  0]\n",
      " [ 0  0 44  0  0  0  0  0  0  0]\n",
      " [ 0  0  0 44  0  0  0  0  1  0]\n",
      " [ 0  0  0  0 38  0  0  0  0  0]\n",
      " [ 0  0  0  0  0 47  0  0  0  1]\n",
      " [ 0  0  0  0  0  0 52  0  0  0]\n",
      " [ 0  0  0  0  0  0  0 48  0  0]\n",
      " [ 0  1  0  0  0  0  0  0 47  0]\n",
      " [ 0  0  0  0  0  1  0  0  0 46]]\n"
     ]
    },
    {
     "data": {
      "text/html": [
       "<div>\n",
       "<style scoped>\n",
       "    .dataframe tbody tr th:only-of-type {\n",
       "        vertical-align: middle;\n",
       "    }\n",
       "\n",
       "    .dataframe tbody tr th {\n",
       "        vertical-align: top;\n",
       "    }\n",
       "\n",
       "    .dataframe thead th {\n",
       "        text-align: right;\n",
       "    }\n",
       "</style>\n",
       "<table border=\"1\" class=\"dataframe\">\n",
       "  <thead>\n",
       "    <tr style=\"text-align: right;\">\n",
       "      <th></th>\n",
       "      <th>f1_score</th>\n",
       "      <th>precision_score</th>\n",
       "      <th>recall_score</th>\n",
       "    </tr>\n",
       "  </thead>\n",
       "  <tbody>\n",
       "    <tr>\n",
       "      <th>DecisionTree(gini)</th>\n",
       "      <td>0.846667</td>\n",
       "      <td>0.846667</td>\n",
       "      <td>0.846667</td>\n",
       "    </tr>\n",
       "    <tr>\n",
       "      <th>LinearSVC</th>\n",
       "      <td>0.917778</td>\n",
       "      <td>0.917778</td>\n",
       "      <td>0.917778</td>\n",
       "    </tr>\n",
       "    <tr>\n",
       "      <th>LogisticRegression</th>\n",
       "      <td>0.951111</td>\n",
       "      <td>0.951111</td>\n",
       "      <td>0.951111</td>\n",
       "    </tr>\n",
       "    <tr>\n",
       "      <th>SVC</th>\n",
       "      <td>0.991111</td>\n",
       "      <td>0.991111</td>\n",
       "      <td>0.991111</td>\n",
       "    </tr>\n",
       "    <tr>\n",
       "      <th>kNN</th>\n",
       "      <td>0.980000</td>\n",
       "      <td>0.980000</td>\n",
       "      <td>0.980000</td>\n",
       "    </tr>\n",
       "  </tbody>\n",
       "</table>\n",
       "</div>"
      ],
      "text/plain": [
       "                    f1_score  precision_score  recall_score\n",
       "DecisionTree(gini)  0.846667         0.846667      0.846667\n",
       "LinearSVC           0.917778         0.917778      0.917778\n",
       "LogisticRegression  0.951111         0.951111      0.951111\n",
       "SVC                 0.991111         0.991111      0.991111\n",
       "kNN                 0.980000         0.980000      0.980000"
      ]
     },
     "execution_count": 63,
     "metadata": {},
     "output_type": "execute_result"
    }
   ],
   "source": [
    "X = digits.data\n",
    "y = digits.target\n",
    "\n",
    "X_train, X_test, y_train, y_test = train_test_split(X, y, random_state=0)\n",
    "\n",
    "models = {\n",
    "    'DecisionTree(gini)': DecisionTreeClassifier(criterion='gini'),\n",
    "    'LogisticRegression': LogisticRegression(),\n",
    "    'kNN': KNeighborsClassifier(),\n",
    "    'LinearSVC': LinearSVC(),\n",
    "    'SVC': SVC()\n",
    "}\n",
    "\n",
    "scores = {}\n",
    "for model_name, model in models.items():\n",
    "    model.fit(X_train, y_train)\n",
    "    y_pred = model.predict(X_test)\n",
    "    scores[(model_name, 'precision_score')] = precision_score(y_test, y_pred, average='micro')\n",
    "    scores[(model_name, 'recall_score')] = recall_score(y_test, y_pred, average='micro')\n",
    "    scores[(model_name, 'f1_score')] = f1_score(y_test, y_pred, average='micro')\n",
    "    m = confusion_matrix(y_test, y_pred)\n",
    "    print(model_name)\n",
    "    print('Confution matrix:\\n{}'.format(m))\n",
    "\n",
    "pd.Series(scores).unstack()"
   ]
  },
  {
   "cell_type": "markdown",
   "metadata": {},
   "source": [
    "↓解答のコピペ"
   ]
  },
  {
   "cell_type": "code",
   "execution_count": 4,
   "metadata": {},
   "outputs": [],
   "source": [
    "# 解答\n",
    "# データの分割（学習データとテストデータ分ける）\n",
    "from sklearn.model_selection import train_test_split\n",
    "\n",
    "# 混同行列\n",
    "from sklearn.metrics import confusion_matrix\n",
    "\n",
    "# ロジスティック回帰\n",
    "from sklearn.linear_model import LogisticRegression\n",
    "# SVM\n",
    "from sklearn.svm import LinearSVC\n",
    "# 決定木\n",
    "from sklearn.tree import  DecisionTreeClassifier\n",
    "# k-NN\n",
    "from sklearn.neighbors import  KNeighborsClassifier\n",
    "# ランダムフォレスト\n",
    "from sklearn.ensemble import RandomForestClassifier\n",
    "\n",
    "# 分析対象データ\n",
    "from sklearn.datasets import load_digits\n",
    "digits = load_digits()\n",
    "\n",
    "# 説明変数\n",
    "X = digits.data\n",
    "# 目的変数\n",
    "Y = digits.target\n",
    "\n",
    "# 学習データとテストデータの分割\n",
    "X_train, X_test, y_train, y_test = train_test_split(\n",
    "    X, Y, random_state=0)"
   ]
  },
  {
   "cell_type": "code",
   "execution_count": 5,
   "metadata": {},
   "outputs": [
    {
     "name": "stdout",
     "output_type": "stream",
     "text": [
      "train: label\n",
      "0    141\n",
      "1    139\n",
      "2    133\n",
      "3    138\n",
      "4    143\n",
      "5    134\n",
      "6    129\n",
      "7    131\n",
      "8    126\n",
      "9    133\n",
      "Name: label, dtype: int64\n",
      "test: label\n",
      "0    37\n",
      "1    43\n",
      "2    44\n",
      "3    45\n",
      "4    38\n",
      "5    48\n",
      "6    52\n",
      "7    48\n",
      "8    48\n",
      "9    47\n",
      "Name: label, dtype: int64\n"
     ]
    }
   ],
   "source": [
    "# データがアンバランスに分かれていないか確認\n",
    "# train\n",
    "print('train:',pd.DataFrame(y_train,columns=['label']).groupby('label')['label'].count())\n",
    "\n",
    "# test\n",
    "print('test:',pd.DataFrame(y_test,columns=['label']).groupby('label')['label'].count())"
   ]
  },
  {
   "cell_type": "code",
   "execution_count": 6,
   "metadata": {},
   "outputs": [
    {
     "name": "stderr",
     "output_type": "stream",
     "text": [
      "C:\\Users\\kazuy\\Anaconda3\\lib\\site-packages\\sklearn\\linear_model\\_logistic.py:940: ConvergenceWarning: lbfgs failed to converge (status=1):\n",
      "STOP: TOTAL NO. of ITERATIONS REACHED LIMIT.\n",
      "\n",
      "Increase the number of iterations (max_iter) or scale the data as shown in:\n",
      "    https://scikit-learn.org/stable/modules/preprocessing.html\n",
      "Please also refer to the documentation for alternative solver options:\n",
      "    https://scikit-learn.org/stable/modules/linear_model.html#logistic-regression\n",
      "  extra_warning_msg=_LOGISTIC_SOLVER_CONVERGENCE_MSG)\n",
      "C:\\Users\\kazuy\\Anaconda3\\lib\\site-packages\\sklearn\\svm\\_base.py:947: ConvergenceWarning: Liblinear failed to converge, increase the number of iterations.\n",
      "  \"the number of iterations.\", ConvergenceWarning)\n"
     ]
    },
    {
     "name": "stdout",
     "output_type": "stream",
     "text": [
      "confusion_matrix:\n",
      "[[37  0  0  0  0  0  0  0  0  0]\n",
      " [ 0 40  0  0  0  0  0  0  2  1]\n",
      " [ 0  1 40  3  0  0  0  0  0  0]\n",
      " [ 0  0  0 43  0  0  0  0  1  1]\n",
      " [ 0  0  0  0 37  0  0  1  0  0]\n",
      " [ 0  0  0  0  0 46  0  0  0  2]\n",
      " [ 0  1  0  0  0  0 51  0  0  0]\n",
      " [ 0  0  0  1  1  0  0 46  0  0]\n",
      " [ 0  3  1  0  0  0  0  0 43  1]\n",
      " [ 0  0  0  0  0  1  0  0  1 45]]\n",
      "train: LogisticRegression 1.0\n",
      "test: LogisticRegression 0.9511111111111111\n",
      "===============================================================\n",
      "\n",
      "confusion_matrix:\n",
      "[[37  0  0  0  0  0  0  0  0  0]\n",
      " [ 0 28  0  0  0  0  1  0 14  0]\n",
      " [ 0  1 37  3  0  0  0  0  3  0]\n",
      " [ 0  0  0 43  0  0  0  0  1  1]\n",
      " [ 0  0  0  1 37  0  0  0  0  0]\n",
      " [ 0  0  0  1  0 44  0  0  2  1]\n",
      " [ 0  0  0  0  0  0 52  0  0  0]\n",
      " [ 0  1  0  1  1  0  0 45  0  0]\n",
      " [ 0  2  0  0  0  0  0  0 46  0]\n",
      " [ 0  0  0  1  1  1  0  0  4 40]]\n",
      "train: LinearSVC 0.9710467706013363\n",
      "test: LinearSVC 0.9088888888888889\n",
      "===============================================================\n",
      "\n",
      "confusion_matrix:\n",
      "[[34  0  0  2  0  0  1  0  0  0]\n",
      " [ 0 39  2  1  1  0  0  0  0  0]\n",
      " [ 1  0 38  4  0  0  0  0  1  0]\n",
      " [ 0  2  4 35  0  0  0  1  1  2]\n",
      " [ 2  1  0  1 33  0  0  0  0  1]\n",
      " [ 0  0  1  3  1 41  0  0  0  2]\n",
      " [ 1  0  0  1  0  0 49  0  0  1]\n",
      " [ 2  0  0  0  2  1  0 39  3  1]\n",
      " [ 1  1  0  4  0  0  0  1 40  1]\n",
      " [ 1  1  2  1  1  4  1  0  0 36]]\n",
      "train: DecisionTreeClassifier 1.0\n",
      "test: DecisionTreeClassifier 0.8533333333333334\n",
      "===============================================================\n",
      "\n",
      "confusion_matrix:\n",
      "[[37  0  0  0  0  0  0  0  0  0]\n",
      " [ 0 42  0  0  0  1  0  0  0  0]\n",
      " [ 0  0 44  0  0  0  0  0  0  0]\n",
      " [ 0  0  1 44  0  0  0  0  0  0]\n",
      " [ 0  0  0  0 37  0  0  1  0  0]\n",
      " [ 0  0  0  0  0 47  0  0  0  1]\n",
      " [ 0  0  0  0  0  0 52  0  0  0]\n",
      " [ 0  0  0  0  0  0  0 48  0  0]\n",
      " [ 0  0  0  2  0  0  0  0 46  0]\n",
      " [ 0  0  0  0  0  0  0  0  0 47]]\n",
      "train: KNeighborsClassifier 0.991833704528582\n",
      "test: KNeighborsClassifier 0.9866666666666667\n",
      "===============================================================\n",
      "\n",
      "confusion_matrix:\n",
      "[[37  0  0  0  0  0  0  0  0  0]\n",
      " [ 0 42  0  0  0  1  0  0  0  0]\n",
      " [ 1  0 42  1  0  0  0  0  0  0]\n",
      " [ 0  0  0 45  0  0  0  0  0  0]\n",
      " [ 0  0  0  0 36  0  0  2  0  0]\n",
      " [ 0  0  0  0  0 47  0  0  0  1]\n",
      " [ 0  0  0  0  0  0 52  0  0  0]\n",
      " [ 0  0  0  0  1  0  0 47  0  0]\n",
      " [ 0  1  0  0  0  1  0  1 45  0]\n",
      " [ 0  0  0  0  0  1  0  0  0 46]]\n",
      "train: RandomForestClassifier 1.0\n",
      "test: RandomForestClassifier 0.9755555555555555\n",
      "===============================================================\n",
      "\n"
     ]
    }
   ],
   "source": [
    "# それぞれのモデルに対して繰り返し実行して確認する\n",
    "for model in [LogisticRegression(),LinearSVC(), \n",
    "              DecisionTreeClassifier(),\n",
    "              KNeighborsClassifier(n_neighbors=3),\n",
    "              RandomForestClassifier()]:\n",
    "    \n",
    "    fit_model = model.fit(X_train,y_train)\n",
    "    pred_y = fit_model.predict(X_test)   \n",
    "    confusion_m = confusion_matrix(y_test,pred_y)\n",
    "    print('confusion_matrix:')\n",
    "    print(confusion_m)\n",
    "    # __class__.__name__は、そのモデルのクラス名\n",
    "    print('train:',fit_model.__class__.__name__ ,fit_model.score(X_train,y_train))\n",
    "    print('test:',fit_model.__class__.__name__ , fit_model.score(X_test,y_test))\n",
    "    print('===============================================================\\n')"
   ]
  }
 ],
 "metadata": {
  "kernelspec": {
   "display_name": "Python 3",
   "language": "python",
   "name": "python3"
  },
  "language_info": {
   "codemirror_mode": {
    "name": "ipython",
    "version": 3
   },
   "file_extension": ".py",
   "mimetype": "text/x-python",
   "name": "python",
   "nbconvert_exporter": "python",
   "pygments_lexer": "ipython3",
   "version": "3.7.1"
  }
 },
 "nbformat": 4,
 "nbformat_minor": 4
}
